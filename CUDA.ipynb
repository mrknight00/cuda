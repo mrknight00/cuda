{
  "cells": [
    {
      "cell_type": "code",
      "execution_count": 7,
      "metadata": {
        "colab": {
          "base_uri": "https://localhost:8080/"
        },
        "id": "rhIV81yhxF6S",
        "outputId": "0e145eb7-f6d9-4ae1-e238-8d6a57d87fbf"
      },
      "outputs": [
        {
          "name": "stdout",
          "output_type": "stream",
          "text": [
            "Overwriting Yash66ad.cu\n"
          ]
        }
      ],
      "source": [
        "%%writefile Yash66ad.cu\n",
        "#include <iostream>\n",
        "#include <cuda_runtime.h>\n",
        "\n",
        "using namespace std;\n",
        "\n",
        "__global__ void addVectors(int* A, int* B, int* C, int n)\n",
        "{\n",
        "    int i = blockIdx.x * blockDim.x + threadIdx.x;\n",
        "    if (i < n)\n",
        "    {\n",
        "        C[i] = A[i] + B[i];\n",
        "    }\n",
        "}\n",
        "\n",
        "int main()\n",
        "{\n",
        "    int n;\n",
        "    cout << \"Enter the size of the vectors: \";\n",
        "    cin >> n;\n",
        "\n",
        "    int* A, * B, * C;\n",
        "    int size = n * sizeof(int);\n",
        "\n",
        "    // Allocate memory on the host\n",
        "    cudaMallocHost(&A, size);\n",
        "    cudaMallocHost(&B, size);\n",
        "    cudaMallocHost(&C, size);\n",
        "\n",
        "    // Initialize vector A\n",
        "    cout << \"Enter the elements of vector A:\" << endl;\n",
        "    for (int i = 0; i < n; i++)\n",
        "    {\n",
        "        cin >> A[i];\n",
        "    }\n",
        "\n",
        "    // Initialize vector B\n",
        "    cout << \"Enter the elements of vector B:\" << endl;\n",
        "    for (int i = 0; i < n; i++)\n",
        "    {\n",
        "        cin >> B[i];\n",
        "    }\n",
        "\n",
        "    // Allocate memory on the device\n",
        "    int* dev_A, * dev_B, * dev_C;\n",
        "    cudaMalloc(&dev_A, size);\n",
        "    cudaMalloc(&dev_B, size);\n",
        "    cudaMalloc(&dev_C, size);\n",
        "\n",
        "    // Copy data from host to device\n",
        "    cudaMemcpy(dev_A, A, size, cudaMemcpyHostToDevice);\n",
        "    cudaMemcpy(dev_B, B, size, cudaMemcpyHostToDevice);\n",
        "\n",
        "    // Launch the kernel\n",
        "    int blockSize = 256;\n",
        "    int numBlocks = (n + blockSize - 1) / blockSize;\n",
        "    addVectors<<<numBlocks, blockSize>>>(dev_A, dev_B, dev_C, n);\n",
        "\n",
        "    // Copy data from device to host\n",
        "    cudaMemcpy(C, dev_C, size, cudaMemcpyDeviceToHost);\n",
        "\n",
        "    // Print the results\n",
        "    cout << \"Results:\" << endl;\n",
        "    for (int i = 0; i < n; i++) // Ensure only printing valid results\n",
        "    {\n",
        "        cout << C[i] << \" \";\n",
        "    }\n",
        "    cout << endl;\n",
        "\n",
        "    // Free memory\n",
        "    cudaFree(dev_A);\n",
        "    cudaFree(dev_B);\n",
        "    cudaFree(dev_C);\n",
        "    cudaFreeHost(A);\n",
        "    cudaFreeHost(B);\n",
        "    cudaFreeHost(C);\n",
        "\n",
        "    return 0;\n",
        "}\n"
      ]
    },
    {
      "cell_type": "code",
      "execution_count": null,
      "metadata": {
        "id": "KyryWP0JxYV8"
      },
      "outputs": [],
      "source": [
        "!nvcc  Yash66ad.cu -o output6"
      ]
    },
    {
      "cell_type": "code",
      "execution_count": 4,
      "metadata": {
        "colab": {
          "base_uri": "https://localhost:8080/"
        },
        "id": "vjA6Rvz8xd6Y",
        "outputId": "41682a26-1ebb-4020-805e-b8014b7cb975"
      },
      "outputs": [
        {
          "name": "stdout",
          "output_type": "stream",
          "text": [
            "Enter the size of the vectors: 10\n",
            "Results:\n",
            "0 3 6 9 12 15 18 21 24 27 \n"
          ]
        }
      ],
      "source": [
        "!./output6"
      ]
    },
    {
      "cell_type": "code",
      "execution_count": null,
      "metadata": {
        "colab": {
          "base_uri": "https://localhost:8080/"
        },
        "id": "J5n92xl4xhza",
        "outputId": "b5ad27f9-37f6-4693-a159-fc0a13c5dbe4"
      },
      "outputs": [
        {
          "name": "stdout",
          "output_type": "stream",
          "text": [
            "Writing Yash66mul.cu\n"
          ]
        }
      ],
      "source": [
        "%%writefile mul.cu\n",
        "#include <cuda_runtime.h>\n",
        "#include <iostream>\n",
        "\n",
        "__global__ void matmul(int* A, int* B, int* C, int N) {\n",
        "    int Row = blockIdx.y*blockDim.y+threadIdx.y;\n",
        "    int Col = blockIdx.x*blockDim.x+threadIdx.x;\n",
        "    if (Row < N && Col < N) \n",
        "    {\n",
        "        int Pvalue = 0;\n",
        "        for (int k = 0; k < N; k++) \n",
        "        {\n",
        "            Pvalue += A[Row*N+k] * B[k*N+Col];\n",
        "        }\n",
        "        C[Row*N+Col] = Pvalue;\n",
        "    }\n",
        "}\n",
        "\n",
        "int main() {\n",
        "    int N;\n",
        "    std::cout << \"Enter the size of the matrices (N x N): \";\n",
        "    std::cin >> N;\n",
        "\n",
        "    int size = N * N * sizeof(int);\n",
        "    int* A, * B, * C;\n",
        "    int* dev_A, * dev_B, * dev_C;\n",
        "    cudaMallocHost(&A, size);\n",
        "    cudaMallocHost(&B, size);\n",
        "    cudaMallocHost(&C, size);\n",
        "    cudaMalloc(&dev_A, size);\n",
        "    cudaMalloc(&dev_B, size);\n",
        "    cudaMalloc(&dev_C, size);\n",
        "\n",
        "    // Input matrix A\n",
        "    std::cout << \"Enter the elements of matrix A:\" << std::endl;\n",
        "    for (int i = 0; i < N; i++) {\n",
        "        for (int j = 0; j < N; j++) {\n",
        "            std::cin >> A[i*N+j];\n",
        "        }\n",
        "    }\n",
        "\n",
        "    // Input matrix B\n",
        "    std::cout << \"Enter the elements of matrix B:\" << std::endl;\n",
        "    for (int i = 0; i < N; i++) {\n",
        "        for (int j = 0; j < N; j++) {\n",
        "            std::cin >> B[i*N+j];\n",
        "        }\n",
        "    }\n",
        "\n",
        "    cudaMemcpy(dev_A, A, size, cudaMemcpyHostToDevice);\n",
        "    cudaMemcpy(dev_B, B, size, cudaMemcpyHostToDevice);\n",
        "\n",
        "    dim3 dimBlock(16, 16);\n",
        "    dim3 dimGrid((N + dimBlock.x - 1) / dimBlock.x, (N + dimBlock.y - 1) / dimBlock.y);\n",
        "\n",
        "    matmul<<<dimGrid, dimBlock>>>(dev_A, dev_B, dev_C, N);\n",
        "\n",
        "    cudaMemcpy(C, dev_C, size, cudaMemcpyDeviceToHost);\n",
        "\n",
        "    // Print the result\n",
        "    std::cout << \"Result:\" << std::endl;\n",
        "    for (int i = 0; i < std::min(10, N); i++) \n",
        "    {\n",
        "        for (int j = 0; j < std::min(10, N); j++) \n",
        "        {\n",
        "            std::cout << C[i*N+j] << \" \";\n",
        "        }\n",
        "        std::cout << std::endl;\n",
        "    }\n",
        "\n",
        "    // Free memory\n",
        "    cudaFree(dev_A);\n",
        "    cudaFree(dev_B);\n",
        "    cudaFree(dev_C);\n",
        "    cudaFreeHost(A);\n",
        "    cudaFreeHost(B);\n",
        "    cudaFreeHost(C);\n",
        "\n",
        "    return 0;\n",
        "}\n"
      ]
    },
    {
      "cell_type": "code",
      "execution_count": null,
      "metadata": {
        "id": "8A6lnATIrGey"
      },
      "outputs": [],
      "source": []
    }
  ],
  "metadata": {
    "accelerator": "GPU",
    "colab": {
      "gpuType": "T4",
      "provenance": []
    },
    "kernelspec": {
      "display_name": "Python 3",
      "name": "python3"
    },
    "language_info": {
      "name": "python"
    }
  },
  "nbformat": 4,
  "nbformat_minor": 0
}
